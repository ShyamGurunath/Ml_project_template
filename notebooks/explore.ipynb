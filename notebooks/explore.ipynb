{
 "cells": [
  {
   "cell_type": "markdown",
   "source": [
    "# Explore your dataset\n",
    "\n",
    "### Google's 6 Step process to develop great Analytics Project\n",
    "![](https://miro.medium.com/max/1400/1*Z7x7l5YL4WbHkxQckLSXlA.png)"
   ],
   "metadata": {}
  },
  {
   "cell_type": "markdown",
   "source": [],
   "metadata": {}
  }
 ],
 "metadata": {
  "orig_nbformat": 4,
  "language_info": {
   "name": "python",
   "version": "3.9.5",
   "mimetype": "text/x-python",
   "codemirror_mode": {
    "name": "ipython",
    "version": 3
   },
   "pygments_lexer": "ipython3",
   "nbconvert_exporter": "python",
   "file_extension": ".py"
  },
  "kernelspec": {
   "name": "python3",
   "display_name": "Python 3.9.5 64-bit ('py35': conda)"
  },
  "interpreter": {
   "hash": "9057b94afdb86a99fc24b8803e3d2606d6521c5942d0d9c93975438816e130e9"
  }
 },
 "nbformat": 4,
 "nbformat_minor": 2
}